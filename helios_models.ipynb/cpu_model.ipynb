# CPU anomaly detection (Isolation Forest)
import numpy as np
from sklearn.ensemble import IsolationForest
import joblib
from google.colab import files
files.download("cpu_isoforest.pkl")


# Normal CPU: 5–60%, Anomalous CPU: 85–100%
X_normal = np.random.uniform(5, 60, (1000,1))
X_anom = np.random.uniform(85, 100, (50,1))
X = np.vstack([X_normal, X_anom])

model = IsolationForest(contamination=0.05, random_state=42)
model.fit(X)

joblib.dump(model, "cpu_isoforest.pkl")
print("Model saved: cpu_isoforest.pkl")
