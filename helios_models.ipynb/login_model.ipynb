# Unauthorized login anomaly detection
import numpy as np
from sklearn.linear_model import LogisticRegression
import joblib
from google.colab import files
files.download("login_model.pkl")

# Features: [failed_attempts, time_of_day(0-23)]
X = np.array([
    [1,10],[2,11],[0,9],[1,22],[5,3],[6,2],[7,1],[10,23]
])
y = [0,0,0,0,1,1,1,1]  # 0 = legit, 1 = anomaly

clf = LogisticRegression().fit(X,y)
joblib.dump(clf,"login_model.pkl")
print("Model saved: login_model.pkl")
