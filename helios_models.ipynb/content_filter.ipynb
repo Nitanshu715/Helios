# Content injection detection
import joblib, re
from sklearn.feature_extraction.text import TfidfVectorizer
from sklearn.linear_model import LogisticRegression
from google.colab import files
files.download("content_model.pkl")

texts = [
    "hello how are you",
    "click this http://spam.com",
    "check https://malware.biz",
    "this is safe text",
]
labels = [0,1,1,0]  # 0 = safe, 1 = anomaly

vec = TfidfVectorizer()
X = vec.fit_transform(texts)
clf = LogisticRegression().fit(X, labels)

joblib.dump((vec,clf),"content_model.pkl")
print("Model saved: content_model.pkl")
