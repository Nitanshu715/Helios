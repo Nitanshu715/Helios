# Network traffic anomaly detection
import numpy as np
from sklearn.cluster import KMeans
import joblib
from google.colab import files
files.download("network_model.pkl")

# Simulate "requests per sec"
normal = np.random.poisson(100, (1000,1))
anom = np.random.poisson(500, (50,1))
X = np.vstack([normal, anom])

kmeans = KMeans(n_clusters=2, random_state=42).fit(X)
joblib.dump(kmeans, "network_model.pkl")
print("Model saved: network_model.pkl")
