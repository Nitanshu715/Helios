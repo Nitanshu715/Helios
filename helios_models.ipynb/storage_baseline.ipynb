# Storage anomaly detection
import numpy as np
from sklearn.ensemble import IsolationForest
import joblib
from google.colab import files
files.download("storage_model.pkl")

# Normal growth: 100–300 MB, anomaly: sudden 1000 MB
X_normal = np.random.uniform(100,300,(1000,1))
X_anom = np.random.uniform(900,1000,(50,1))
X = np.vstack([X_normal,X_anom])

model = IsolationForest(contamination=0.05, random_state=42)
model.fit(X)

joblib.dump(model,"storage_model.pkl")
print("Model saved: storage_model.pkl")
