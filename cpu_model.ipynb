{
 "cells": [
  {
   "cell_type": "code",
   "execution_count": null,
   "id": "6e496f4a",
   "metadata": {},
   "outputs": [],
   "source": [
    "# CPU anomaly detection (Isolation Forest)\n",
    "import numpy as np\n",
    "from sklearn.ensemble import IsolationForest\n",
    "import joblib\n",
    "from google.colab import files\n",
    "files.download(\"cpu_isoforest.pkl\")\n",
    "\n",
    "\n",
    "# Normal CPU: 5–60%, Anomalous CPU: 85–100%\n",
    "X_normal = np.random.uniform(5, 60, (1000,1))\n",
    "X_anom = np.random.uniform(85, 100, (50,1))\n",
    "X = np.vstack([X_normal, X_anom])\n",
    "\n",
    "model = IsolationForest(contamination=0.05, random_state=42)\n",
    "model.fit(X)\n",
    "\n",
    "joblib.dump(model, \"cpu_isoforest.pkl\")\n",
    "print(\"Model saved: cpu_isoforest.pkl\")\n"
   ]
  }
 ],
 "metadata": {
  "kernelspec": {
   "display_name": ".venv",
   "language": "python",
   "name": "python3"
  },
  "language_info": {
   "name": "python",
   "version": "3.13.1"
  }
 },
 "nbformat": 4,
 "nbformat_minor": 5
}
